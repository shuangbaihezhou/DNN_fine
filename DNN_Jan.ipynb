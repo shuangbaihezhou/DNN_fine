{
 "cells": [
  {
   "cell_type": "code",
   "execution_count": 1,
   "metadata": {},
   "outputs": [],
   "source": [
    "# import modules\n",
    "import pandas as pd\n",
    "from tensorflow.keras import metrics\n",
    "import tensorflow.keras.backend as K\n",
    "from tensorflow import keras\n",
    "from tensorflow.keras.models import Sequential\n",
    "from tensorflow.keras.layers import Dense, Activation, Dropout\n",
    "from tensorflow.keras.optimizers import Adam\n",
    "import tensorflow as tf\n",
    "import numpy as np\n",
    "import os\n",
    "from skimage import io\n",
    "from tqdm import tqdm"
   ]
  },
  {
   "cell_type": "code",
   "execution_count": 2,
   "metadata": {},
   "outputs": [],
   "source": [
    "# # set GPU\n",
    "# gpus = tf.config.experimental.list_physical_devices('GPU')\n",
    "# tf.config.experimental.set_visible_devices(gpus[0], 'GPU')\n",
    "# for gpu in gpus:\n",
    "#     tf.config.experimental.set_memory_growth(gpu, True)\n",
    "# print(len(gpus))\n",
    "# logical_gpus = tf.config.experimental.list_logical_devices('GPU')\n",
    "# print(len(logical_gpus))"
   ]
  },
  {
   "cell_type": "code",
   "execution_count": 3,
   "metadata": {},
   "outputs": [],
   "source": [
    "# read data\n",
    "jan_train = pd.read_csv('training1.csv')"
   ]
  },
  {
   "cell_type": "code",
   "execution_count": 4,
   "metadata": {},
   "outputs": [],
   "source": [
    "jan_train_x = pd.concat([jan_train.iloc[:,5:12]/jan_train.iloc[:,5:12].max(), jan_train.iloc[:,3:5]/jan_train.iloc[:,3:5].max(),\n",
    "                     jan_train.iloc[:,15:16]/jan_train.iloc[:,15:16].max(), jan_train.iloc[:,13:14]/jan_train.iloc[:,13:14].max(),\n",
    "                     jan_train.iloc[:,16:17]/jan_train.iloc[:,16:17].max(), jan_train.iloc[:,14:15]/jan_train.iloc[:,14:15].max(),\n",
    "                     jan_train.iloc[:,2:3]/jan_train.iloc[:,2:3].max(), jan_train.iloc[:,1:2]/jan_train.iloc[:,1:2].max(),\n",
    "                     jan_train.iloc[:,12:13]/jan_train.iloc[:,12:13].max()],axis=1,join='inner').values\n",
    "jan_train_y = jan_train.landcover.values"
   ]
  },
  {
   "cell_type": "code",
   "execution_count": 5,
   "metadata": {},
   "outputs": [
    {
     "name": "stdout",
     "output_type": "stream",
     "text": [
      "320 80\n"
     ]
    }
   ],
   "source": [
    "from sklearn.model_selection import train_test_split\n",
    "X_train,X_test,Y_train,Y_test = train_test_split(jan_train_x, jan_train_y, test_size=0.2, random_state=3)\n",
    "print(len(X_train), len(X_test))"
   ]
  },
  {
   "cell_type": "code",
   "execution_count": 6,
   "metadata": {},
   "outputs": [],
   "source": [
    "# set training model\n",
    "logdir = os.path.join(\"model\")\n",
    "if not os.path.exists(logdir):\n",
    "    os.mkdir(logdir)\n",
    "output_model_file = os.path.join(logdir,\"model.h5\")\n",
    "\n",
    "callbacks = [\n",
    "    keras.callbacks.TensorBoard(logdir),\n",
    "    keras.callbacks.ModelCheckpoint(output_model_file,monitor='val_accuracy',save_best_only = True,save_weights_only = False),\n",
    "    keras.callbacks.EarlyStopping(monitor='val_accuracy', patience=100, min_delta=1e-7),\n",
    "]"
   ]
  },
  {
   "cell_type": "code",
   "execution_count": 7,
   "metadata": {},
   "outputs": [
    {
     "name": "stdout",
     "output_type": "stream",
     "text": [
      "Train on 320 samples, validate on 80 samples\n",
      "Epoch 1/100\n",
      "320/320 [==============================] - 1s 2ms/sample - loss: 1.8602 - accuracy: 0.2125 - val_loss: 1.8374 - val_accuracy: 0.1500\n",
      "Epoch 2/100\n",
      "320/320 [==============================] - 0s 103us/sample - loss: 1.7944 - accuracy: 0.2062 - val_loss: 1.7970 - val_accuracy: 0.1500\n",
      "Epoch 3/100\n",
      "320/320 [==============================] - 0s 162us/sample - loss: 1.7579 - accuracy: 0.2281 - val_loss: 1.7593 - val_accuracy: 0.1750\n",
      "Epoch 4/100\n",
      "320/320 [==============================] - 0s 167us/sample - loss: 1.7185 - accuracy: 0.2906 - val_loss: 1.7238 - val_accuracy: 0.2500\n",
      "Epoch 5/100\n",
      "320/320 [==============================] - 0s 155us/sample - loss: 1.6886 - accuracy: 0.3281 - val_loss: 1.6896 - val_accuracy: 0.2750\n",
      "Epoch 6/100\n",
      "320/320 [==============================] - 0s 158us/sample - loss: 1.6415 - accuracy: 0.3531 - val_loss: 1.6549 - val_accuracy: 0.3000\n",
      "Epoch 7/100\n",
      "320/320 [==============================] - 0s 90us/sample - loss: 1.6138 - accuracy: 0.3812 - val_loss: 1.6200 - val_accuracy: 0.3000\n",
      "Epoch 8/100\n",
      "320/320 [==============================] - 0s 100us/sample - loss: 1.5662 - accuracy: 0.3938 - val_loss: 1.5797 - val_accuracy: 0.3000\n",
      "Epoch 9/100\n",
      "320/320 [==============================] - 0s 150us/sample - loss: 1.5214 - accuracy: 0.4219 - val_loss: 1.5365 - val_accuracy: 0.4375\n",
      "Epoch 10/100\n",
      "320/320 [==============================] - 0s 153us/sample - loss: 1.4935 - accuracy: 0.4938 - val_loss: 1.4919 - val_accuracy: 0.4625\n",
      "Epoch 11/100\n",
      "320/320 [==============================] - 0s 158us/sample - loss: 1.4513 - accuracy: 0.4781 - val_loss: 1.4462 - val_accuracy: 0.5750\n",
      "Epoch 12/100\n",
      "320/320 [==============================] - 0s 173us/sample - loss: 1.3847 - accuracy: 0.5688 - val_loss: 1.3983 - val_accuracy: 0.6000\n",
      "Epoch 13/100\n",
      "320/320 [==============================] - 0s 91us/sample - loss: 1.3604 - accuracy: 0.5656 - val_loss: 1.3504 - val_accuracy: 0.6000\n",
      "Epoch 14/100\n",
      "320/320 [==============================] - 0s 88us/sample - loss: 1.2994 - accuracy: 0.5906 - val_loss: 1.3036 - val_accuracy: 0.6000\n",
      "Epoch 15/100\n",
      "320/320 [==============================] - 0s 84us/sample - loss: 1.2679 - accuracy: 0.5781 - val_loss: 1.2594 - val_accuracy: 0.5875\n",
      "Epoch 16/100\n",
      "320/320 [==============================] - 0s 97us/sample - loss: 1.2019 - accuracy: 0.5938 - val_loss: 1.2156 - val_accuracy: 0.5875\n",
      "Epoch 17/100\n",
      "320/320 [==============================] - 0s 91us/sample - loss: 1.1446 - accuracy: 0.6094 - val_loss: 1.1740 - val_accuracy: 0.5875\n",
      "Epoch 18/100\n",
      "320/320 [==============================] - 0s 95us/sample - loss: 1.1521 - accuracy: 0.5781 - val_loss: 1.1344 - val_accuracy: 0.5625\n",
      "Epoch 19/100\n",
      "320/320 [==============================] - 0s 82us/sample - loss: 1.0790 - accuracy: 0.6094 - val_loss: 1.0953 - val_accuracy: 0.5625\n",
      "Epoch 20/100\n",
      "320/320 [==============================] - 0s 88us/sample - loss: 1.0427 - accuracy: 0.6500 - val_loss: 1.0602 - val_accuracy: 0.5875\n",
      "Epoch 21/100\n",
      "320/320 [==============================] - 0s 98us/sample - loss: 1.0281 - accuracy: 0.6094 - val_loss: 1.0282 - val_accuracy: 0.5875\n",
      "Epoch 22/100\n",
      "320/320 [==============================] - 0s 91us/sample - loss: 1.0067 - accuracy: 0.6031 - val_loss: 0.9994 - val_accuracy: 0.6000\n",
      "Epoch 23/100\n",
      "320/320 [==============================] - 0s 153us/sample - loss: 0.9876 - accuracy: 0.6156 - val_loss: 0.9727 - val_accuracy: 0.6125\n",
      "Epoch 24/100\n",
      "320/320 [==============================] - 0s 90us/sample - loss: 0.9441 - accuracy: 0.6250 - val_loss: 0.9481 - val_accuracy: 0.6000\n",
      "Epoch 25/100\n",
      "320/320 [==============================] - 0s 107us/sample - loss: 0.9275 - accuracy: 0.6313 - val_loss: 0.9276 - val_accuracy: 0.6000\n",
      "Epoch 26/100\n",
      "320/320 [==============================] - 0s 85us/sample - loss: 0.8929 - accuracy: 0.6219 - val_loss: 0.9092 - val_accuracy: 0.6000\n",
      "Epoch 27/100\n",
      "320/320 [==============================] - 0s 78us/sample - loss: 0.8709 - accuracy: 0.6562 - val_loss: 0.8949 - val_accuracy: 0.6000\n",
      "Epoch 28/100\n",
      "320/320 [==============================] - 0s 93us/sample - loss: 0.8891 - accuracy: 0.6281 - val_loss: 0.8820 - val_accuracy: 0.6000\n",
      "Epoch 29/100\n",
      "320/320 [==============================] - 0s 90us/sample - loss: 0.8472 - accuracy: 0.6375 - val_loss: 0.8688 - val_accuracy: 0.6125\n",
      "Epoch 30/100\n",
      "320/320 [==============================] - 0s 142us/sample - loss: 0.8492 - accuracy: 0.6687 - val_loss: 0.8594 - val_accuracy: 0.6250\n",
      "Epoch 31/100\n",
      "320/320 [==============================] - 0s 93us/sample - loss: 0.8646 - accuracy: 0.6219 - val_loss: 0.8475 - val_accuracy: 0.6250\n",
      "Epoch 32/100\n",
      "320/320 [==============================] - 0s 149us/sample - loss: 0.8341 - accuracy: 0.6594 - val_loss: 0.8367 - val_accuracy: 0.6375\n",
      "Epoch 33/100\n",
      "320/320 [==============================] - 0s 90us/sample - loss: 0.8220 - accuracy: 0.6438 - val_loss: 0.8302 - val_accuracy: 0.6250\n",
      "Epoch 34/100\n",
      "320/320 [==============================] - 0s 96us/sample - loss: 0.8177 - accuracy: 0.6656 - val_loss: 0.8237 - val_accuracy: 0.6250\n",
      "Epoch 35/100\n",
      "320/320 [==============================] - 0s 86us/sample - loss: 0.8217 - accuracy: 0.6656 - val_loss: 0.8164 - val_accuracy: 0.6375\n",
      "Epoch 36/100\n",
      "320/320 [==============================] - 0s 146us/sample - loss: 0.7774 - accuracy: 0.6687 - val_loss: 0.8117 - val_accuracy: 0.6500\n",
      "Epoch 37/100\n",
      "320/320 [==============================] - 0s 100us/sample - loss: 0.7991 - accuracy: 0.6812 - val_loss: 0.8062 - val_accuracy: 0.6375\n",
      "Epoch 38/100\n",
      "320/320 [==============================] - 0s 84us/sample - loss: 0.8034 - accuracy: 0.6406 - val_loss: 0.8021 - val_accuracy: 0.6250\n",
      "Epoch 39/100\n",
      "320/320 [==============================] - 0s 103us/sample - loss: 0.8091 - accuracy: 0.6438 - val_loss: 0.7974 - val_accuracy: 0.6375\n",
      "Epoch 40/100\n",
      "320/320 [==============================] - 0s 88us/sample - loss: 0.7927 - accuracy: 0.6656 - val_loss: 0.7939 - val_accuracy: 0.6250\n",
      "Epoch 41/100\n",
      "320/320 [==============================] - 0s 84us/sample - loss: 0.7886 - accuracy: 0.6812 - val_loss: 0.7887 - val_accuracy: 0.6500\n",
      "Epoch 42/100\n",
      "320/320 [==============================] - 0s 84us/sample - loss: 0.7928 - accuracy: 0.6687 - val_loss: 0.7858 - val_accuracy: 0.6375\n",
      "Epoch 43/100\n",
      "320/320 [==============================] - 0s 83us/sample - loss: 0.7714 - accuracy: 0.6531 - val_loss: 0.7824 - val_accuracy: 0.6500\n",
      "Epoch 44/100\n",
      "320/320 [==============================] - 0s 83us/sample - loss: 0.7948 - accuracy: 0.6625 - val_loss: 0.7778 - val_accuracy: 0.6500\n",
      "Epoch 45/100\n",
      "320/320 [==============================] - 0s 86us/sample - loss: 0.7523 - accuracy: 0.6750 - val_loss: 0.7720 - val_accuracy: 0.6500\n",
      "Epoch 46/100\n",
      "320/320 [==============================] - 0s 82us/sample - loss: 0.7634 - accuracy: 0.6781 - val_loss: 0.7685 - val_accuracy: 0.6500\n",
      "Epoch 47/100\n",
      "320/320 [==============================] - 0s 81us/sample - loss: 0.7460 - accuracy: 0.6812 - val_loss: 0.7631 - val_accuracy: 0.6500\n",
      "Epoch 48/100\n",
      "320/320 [==============================] - 0s 149us/sample - loss: 0.7374 - accuracy: 0.6969 - val_loss: 0.7574 - val_accuracy: 0.6625\n",
      "Epoch 49/100\n",
      "320/320 [==============================] - 0s 90us/sample - loss: 0.7248 - accuracy: 0.7000 - val_loss: 0.7525 - val_accuracy: 0.6625\n",
      "Epoch 50/100\n",
      "320/320 [==============================] - 0s 84us/sample - loss: 0.7482 - accuracy: 0.6781 - val_loss: 0.7513 - val_accuracy: 0.6625\n",
      "Epoch 51/100\n",
      "320/320 [==============================] - 0s 84us/sample - loss: 0.7516 - accuracy: 0.6562 - val_loss: 0.7497 - val_accuracy: 0.6625\n",
      "Epoch 52/100\n",
      "320/320 [==============================] - 0s 82us/sample - loss: 0.7008 - accuracy: 0.7031 - val_loss: 0.7484 - val_accuracy: 0.6625\n",
      "Epoch 53/100\n",
      "320/320 [==============================] - 0s 96us/sample - loss: 0.7525 - accuracy: 0.6594 - val_loss: 0.7438 - val_accuracy: 0.6625\n",
      "Epoch 54/100\n",
      "320/320 [==============================] - 0s 90us/sample - loss: 0.6899 - accuracy: 0.7031 - val_loss: 0.7405 - val_accuracy: 0.6625\n",
      "Epoch 55/100\n",
      "320/320 [==============================] - 0s 85us/sample - loss: 0.7359 - accuracy: 0.6938 - val_loss: 0.7380 - val_accuracy: 0.6625\n",
      "Epoch 56/100\n"
     ]
    },
    {
     "name": "stdout",
     "output_type": "stream",
     "text": [
      "320/320 [==============================] - 0s 84us/sample - loss: 0.7376 - accuracy: 0.6969 - val_loss: 0.7363 - val_accuracy: 0.6625\n",
      "Epoch 57/100\n",
      "320/320 [==============================] - 0s 87us/sample - loss: 0.7235 - accuracy: 0.7125 - val_loss: 0.7343 - val_accuracy: 0.6500\n",
      "Epoch 58/100\n",
      "320/320 [==============================] - 0s 82us/sample - loss: 0.7162 - accuracy: 0.7031 - val_loss: 0.7307 - val_accuracy: 0.6500\n",
      "Epoch 59/100\n",
      "320/320 [==============================] - 0s 84us/sample - loss: 0.7111 - accuracy: 0.6875 - val_loss: 0.7264 - val_accuracy: 0.6500\n",
      "Epoch 60/100\n",
      "320/320 [==============================] - 0s 80us/sample - loss: 0.6849 - accuracy: 0.7156 - val_loss: 0.7237 - val_accuracy: 0.6625\n",
      "Epoch 61/100\n",
      "320/320 [==============================] - ETA: 0s - loss: 0.6625 - accuracy: 0.76 - 0s 80us/sample - loss: 0.7134 - accuracy: 0.6906 - val_loss: 0.7217 - val_accuracy: 0.6625\n",
      "Epoch 62/100\n",
      "320/320 [==============================] - 0s 90us/sample - loss: 0.7074 - accuracy: 0.7031 - val_loss: 0.7188 - val_accuracy: 0.6625\n",
      "Epoch 63/100\n",
      "320/320 [==============================] - 0s 81us/sample - loss: 0.7166 - accuracy: 0.6906 - val_loss: 0.7144 - val_accuracy: 0.6625\n",
      "Epoch 64/100\n",
      "320/320 [==============================] - 0s 84us/sample - loss: 0.6898 - accuracy: 0.7250 - val_loss: 0.7094 - val_accuracy: 0.6625\n",
      "Epoch 65/100\n",
      "320/320 [==============================] - 0s 87us/sample - loss: 0.7096 - accuracy: 0.6562 - val_loss: 0.7077 - val_accuracy: 0.6625\n",
      "Epoch 66/100\n",
      "320/320 [==============================] - 0s 83us/sample - loss: 0.6992 - accuracy: 0.7031 - val_loss: 0.7034 - val_accuracy: 0.6625\n",
      "Epoch 67/100\n",
      "320/320 [==============================] - 0s 91us/sample - loss: 0.6931 - accuracy: 0.6875 - val_loss: 0.6996 - val_accuracy: 0.6625\n",
      "Epoch 68/100\n",
      "320/320 [==============================] - 0s 86us/sample - loss: 0.6848 - accuracy: 0.7000 - val_loss: 0.6996 - val_accuracy: 0.6625\n",
      "Epoch 69/100\n",
      "320/320 [==============================] - 0s 87us/sample - loss: 0.6762 - accuracy: 0.7000 - val_loss: 0.6977 - val_accuracy: 0.6625\n",
      "Epoch 70/100\n",
      "320/320 [==============================] - 0s 96us/sample - loss: 0.6756 - accuracy: 0.7125 - val_loss: 0.6954 - val_accuracy: 0.6625\n",
      "Epoch 71/100\n",
      "320/320 [==============================] - 0s 146us/sample - loss: 0.6676 - accuracy: 0.7156 - val_loss: 0.6942 - val_accuracy: 0.6750\n",
      "Epoch 72/100\n",
      "320/320 [==============================] - 0s 86us/sample - loss: 0.6911 - accuracy: 0.7031 - val_loss: 0.6908 - val_accuracy: 0.6750\n",
      "Epoch 73/100\n",
      "320/320 [==============================] - 0s 81us/sample - loss: 0.6780 - accuracy: 0.7125 - val_loss: 0.6886 - val_accuracy: 0.6625\n",
      "Epoch 74/100\n",
      "320/320 [==============================] - 0s 90us/sample - loss: 0.6891 - accuracy: 0.6938 - val_loss: 0.6853 - val_accuracy: 0.6625\n",
      "Epoch 75/100\n",
      "320/320 [==============================] - 0s 87us/sample - loss: 0.6597 - accuracy: 0.7094 - val_loss: 0.6817 - val_accuracy: 0.6625\n",
      "Epoch 76/100\n",
      "320/320 [==============================] - 0s 85us/sample - loss: 0.6523 - accuracy: 0.7250 - val_loss: 0.6785 - val_accuracy: 0.6625\n",
      "Epoch 77/100\n",
      "320/320 [==============================] - 0s 87us/sample - loss: 0.6695 - accuracy: 0.7156 - val_loss: 0.6765 - val_accuracy: 0.6750\n",
      "Epoch 78/100\n",
      "320/320 [==============================] - 0s 82us/sample - loss: 0.6810 - accuracy: 0.6844 - val_loss: 0.6757 - val_accuracy: 0.6750\n",
      "Epoch 79/100\n",
      "320/320 [==============================] - 0s 82us/sample - loss: 0.6464 - accuracy: 0.7281 - val_loss: 0.6726 - val_accuracy: 0.6750\n",
      "Epoch 80/100\n",
      "320/320 [==============================] - 0s 143us/sample - loss: 0.6574 - accuracy: 0.6938 - val_loss: 0.6702 - val_accuracy: 0.6875\n",
      "Epoch 81/100\n",
      "320/320 [==============================] - 0s 83us/sample - loss: 0.6405 - accuracy: 0.7312 - val_loss: 0.6678 - val_accuracy: 0.6750\n",
      "Epoch 82/100\n",
      "320/320 [==============================] - 0s 84us/sample - loss: 0.6588 - accuracy: 0.7000 - val_loss: 0.6661 - val_accuracy: 0.6875\n",
      "Epoch 83/100\n",
      "320/320 [==============================] - 0s 85us/sample - loss: 0.6429 - accuracy: 0.7312 - val_loss: 0.6613 - val_accuracy: 0.6875\n",
      "Epoch 84/100\n",
      "320/320 [==============================] - 0s 92us/sample - loss: 0.6434 - accuracy: 0.7312 - val_loss: 0.6591 - val_accuracy: 0.6875\n",
      "Epoch 85/100\n",
      "320/320 [==============================] - 0s 100us/sample - loss: 0.6473 - accuracy: 0.6969 - val_loss: 0.6522 - val_accuracy: 0.6875\n",
      "Epoch 86/100\n",
      "320/320 [==============================] - 0s 144us/sample - loss: 0.6318 - accuracy: 0.7094 - val_loss: 0.6489 - val_accuracy: 0.7000\n",
      "Epoch 87/100\n",
      "320/320 [==============================] - 0s 93us/sample - loss: 0.6368 - accuracy: 0.7219 - val_loss: 0.6515 - val_accuracy: 0.6875\n",
      "Epoch 88/100\n",
      "320/320 [==============================] - 0s 90us/sample - loss: 0.6345 - accuracy: 0.7250 - val_loss: 0.6495 - val_accuracy: 0.6875\n",
      "Epoch 89/100\n",
      "320/320 [==============================] - 0s 86us/sample - loss: 0.6114 - accuracy: 0.7188 - val_loss: 0.6463 - val_accuracy: 0.7000\n",
      "Epoch 90/100\n",
      "320/320 [==============================] - 0s 81us/sample - loss: 0.5911 - accuracy: 0.7688 - val_loss: 0.6446 - val_accuracy: 0.6875\n",
      "Epoch 91/100\n",
      "320/320 [==============================] - 0s 89us/sample - loss: 0.6027 - accuracy: 0.7500 - val_loss: 0.6418 - val_accuracy: 0.6875\n",
      "Epoch 92/100\n",
      "320/320 [==============================] - 0s 153us/sample - loss: 0.5993 - accuracy: 0.7406 - val_loss: 0.6361 - val_accuracy: 0.7125\n",
      "Epoch 93/100\n",
      "320/320 [==============================] - 0s 89us/sample - loss: 0.6021 - accuracy: 0.7719 - val_loss: 0.6289 - val_accuracy: 0.7125\n",
      "Epoch 94/100\n",
      "320/320 [==============================] - 0s 96us/sample - loss: 0.6348 - accuracy: 0.7281 - val_loss: 0.6259 - val_accuracy: 0.7125\n",
      "Epoch 95/100\n",
      "320/320 [==============================] - 0s 96us/sample - loss: 0.6321 - accuracy: 0.7375 - val_loss: 0.6251 - val_accuracy: 0.7125\n",
      "Epoch 96/100\n",
      "320/320 [==============================] - 0s 154us/sample - loss: 0.6212 - accuracy: 0.7344 - val_loss: 0.6217 - val_accuracy: 0.7250\n",
      "Epoch 97/100\n",
      "320/320 [==============================] - 0s 85us/sample - loss: 0.6227 - accuracy: 0.7625 - val_loss: 0.6223 - val_accuracy: 0.7000\n",
      "Epoch 98/100\n",
      "320/320 [==============================] - 0s 85us/sample - loss: 0.5976 - accuracy: 0.7406 - val_loss: 0.6223 - val_accuracy: 0.7000\n",
      "Epoch 99/100\n",
      "320/320 [==============================] - 0s 88us/sample - loss: 0.6033 - accuracy: 0.7531 - val_loss: 0.6201 - val_accuracy: 0.7000\n",
      "Epoch 100/100\n",
      "320/320 [==============================] - 0s 86us/sample - loss: 0.5997 - accuracy: 0.7500 - val_loss: 0.6125 - val_accuracy: 0.7125\n"
     ]
    },
    {
     "data": {
      "text/plain": [
       "<tensorflow.python.keras.callbacks.History at 0x20e54539e48>"
      ]
     },
     "execution_count": 7,
     "metadata": {},
     "output_type": "execute_result"
    }
   ],
   "source": [
    "# DNN structure\n",
    "model = Sequential()\n",
    "model.add(Dense(32, input_shape=(16,)))\n",
    "model.add(Activation('relu'))\n",
    "model.add(Dropout(0.1))\n",
    "model.add(Dense(16))\n",
    "model.add(Activation('relu'))\n",
    "model.add(Dropout(0.1))\n",
    "model.add(Dense(6))\n",
    "model.add(Activation('softmax'))\n",
    "# set loss and optimizer\n",
    "model.compile(loss=\"sparse_categorical_crossentropy\",optimizer = tf.keras.optimizers.Adam(),metrics = [\"accuracy\"])\n",
    "# train the model\n",
    "model.fit(X_train, Y_train, epochs=100, batch_size=64,shuffle=True,\n",
    "          validation_data=(X_test,Y_test),callbacks=callbacks,verbose=1)"
   ]
  },
  {
   "cell_type": "code",
   "execution_count": 8,
   "metadata": {},
   "outputs": [],
   "source": [
    "model = keras.models.load_model(output_model_file)"
   ]
  },
  {
   "cell_type": "code",
   "execution_count": 9,
   "metadata": {},
   "outputs": [],
   "source": [
    "# read image to be classified\n",
    "jan_img = np.reshape(io.imread('JanuaryClip.tif'),(-1,13))"
   ]
  },
  {
   "cell_type": "code",
   "execution_count": 10,
   "metadata": {},
   "outputs": [],
   "source": [
    "h,w,c = io.imread('JanuaryClip.tif').shape\n",
    "jan_img_b2_b8 = np.concatenate((jan_img[:,1:8], jan_img[:,11:13]), axis=1)"
   ]
  },
  {
   "cell_type": "code",
   "execution_count": 11,
   "metadata": {},
   "outputs": [
    {
     "name": "stderr",
     "output_type": "stream",
     "text": [
      "C:\\Anaconda3\\lib\\site-packages\\ipykernel_launcher.py:2: RuntimeWarning: invalid value encountered in true_divide\n",
      "  \n",
      "C:\\Anaconda3\\lib\\site-packages\\ipykernel_launcher.py:3: RuntimeWarning: invalid value encountered in true_divide\n",
      "  This is separate from the ipykernel package so we can avoid doing imports until\n",
      "C:\\Anaconda3\\lib\\site-packages\\ipykernel_launcher.py:4: RuntimeWarning: invalid value encountered in true_divide\n",
      "  after removing the cwd from sys.path.\n",
      "C:\\Anaconda3\\lib\\site-packages\\ipykernel_launcher.py:5: RuntimeWarning: invalid value encountered in true_divide\n",
      "  \"\"\"\n",
      "C:\\Anaconda3\\lib\\site-packages\\ipykernel_launcher.py:8: RuntimeWarning: divide by zero encountered in true_divide\n",
      "  \n",
      "C:\\Anaconda3\\lib\\site-packages\\ipykernel_launcher.py:8: RuntimeWarning: invalid value encountered in true_divide\n",
      "  \n"
     ]
    }
   ],
   "source": [
    "# geoTIFF image pre process\n",
    "ndvi = (jan_img[:,7]-jan_img[:,3])/(jan_img[:,7]+jan_img[:,3])\n",
    "ndbi = (jan_img[:,1]-jan_img[:,7])/(jan_img[:,1]+jan_img[:,7])\n",
    "ndwi = (jan_img[:,2]-jan_img[:,7])/(jan_img[:,2]+jan_img[:,7])\n",
    "ndsi = (jan_img[:,2]-jan_img[:,11])/(jan_img[:,2]+jan_img[:,11])\n",
    "aweis = jan_img[:,1]+2.5*jan_img[:,2]-1.5*(jan_img[:,7]+jan_img[:,11])-0.25*jan_img[:,12]\n",
    "aweins = 4*(jan_img[:,2]-jan_img[:,11])-(0.25*jan_img[:,7]+2.75*jan_img[:,12])\n",
    "evi = 2.5*(jan_img[:,7]-jan_img[:,3])/(jan_img[:,7]+6*jan_img[:,3]-7.5*jan_img[:,1]+1)\n",
    "divd = np.concatenate((jan_train.iloc[:,5:12].max().values, jan_train.iloc[:,3:5].max().values, \\\n",
    "                     jan_train.iloc[:,15:16].max().values, jan_train.iloc[:,13:14].max().values, \\\n",
    "                     jan_train.iloc[:,16:17].max().values, jan_train.iloc[:,14:15].max().values, \\\n",
    "                     jan_train.iloc[:,2:3].max().values, jan_train.iloc[:,1:2].max().values, \\\n",
    "                     jan_train.iloc[:,12:13].max().values))\n",
    "jan_test_data = np.c_[jan_img_b2_b8,ndvi,ndbi,ndwi,ndsi,aweis,aweins,evi]/divd"
   ]
  },
  {
   "cell_type": "code",
   "execution_count": null,
   "metadata": {},
   "outputs": [
    {
     "name": "stderr",
     "output_type": "stream",
     "text": [
      "  2%|█▍                                                                     | 55723/2756160 [38:37<22:18:22, 33.63it/s]"
     ]
    }
   ],
   "source": [
    "# predict the class\n",
    "pred = []\n",
    "invalid_data = []\n",
    "valid_data = []\n",
    "for i in tqdm(range(len(jan_img))):\n",
    "    if jan_test_data[i][0] == 0 or jan_test_data[i][0] == -1:\n",
    "        pred.append(-1)\n",
    "    else:\n",
    "        pred.append(model.predict(jan_test_data[i][np.newaxis,::]).argmax())"
   ]
  },
  {
   "cell_type": "code",
   "execution_count": null,
   "metadata": {},
   "outputs": [],
   "source": []
  }
 ],
 "metadata": {
  "kernelspec": {
   "display_name": "Python 3",
   "language": "python",
   "name": "python3"
  },
  "language_info": {
   "codemirror_mode": {
    "name": "ipython",
    "version": 3
   },
   "file_extension": ".py",
   "mimetype": "text/x-python",
   "name": "python",
   "nbconvert_exporter": "python",
   "pygments_lexer": "ipython3",
   "version": "3.7.7"
  }
 },
 "nbformat": 4,
 "nbformat_minor": 4
}
